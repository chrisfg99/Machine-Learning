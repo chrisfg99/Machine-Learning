{
 "cells": [
  {
   "cell_type": "code",
   "execution_count": 37,
   "metadata": {},
   "outputs": [],
   "source": [
    "import pandas as pd\n",
    "import numpy as np\n",
    "from sklearn.ensemble import RandomForestClassifier\n",
    "from sklearn.model_selection import train_test_split\n",
    "from sklearn.metrics import confusion_matrix\n",
    "from sklearn.metrics import precision_recall_fscore_support\n",
    "from sklearn.model_selection import GridSearchCV\n",
    "from sklearn.impute import SimpleImputer"
   ]
  },
  {
   "cell_type": "code",
   "execution_count": 38,
   "metadata": {},
   "outputs": [],
   "source": [
    "#get and sort train data\n",
    "t=pd.read_csv('training.csv')\n",
    "X=t.iloc[:,1:4609]\n",
    "X=X.values\n",
    "Y=t.iloc[:,4609].values\n",
    "X_train,X_test,Y_train,Y_test=train_test_split(X,Y,test_size=0.5,random_state=42)"
   ]
  },
  {
   "cell_type": "code",
   "execution_count": 66,
   "metadata": {},
   "outputs": [
    {
     "name": "stdout",
     "output_type": "stream",
     "text": [
      "{'max_depth': 2, 'n_estimators': 10}\n"
     ]
    }
   ],
   "source": [
    "#preprocessing (getting best parameters)\n",
    "RFbeta=RandomForestClassifier()\n",
    "RFbeata.fit(X_train,Y_train)\n",
    "paras={'n_estimators':[5,10,25,50,100,250,500],\n",
    "      'max_depth':[2,4,6,8,16,24,32]}\n",
    "GSCV=GridSearchCV(RFbeta,paras)\n",
    "GSCV.fit(X_train,Y_train)\n",
    "print(GSCV.best_params_)"
   ]
  },
  {
   "cell_type": "code",
   "execution_count": 287,
   "metadata": {},
   "outputs": [
    {
     "data": {
      "text/plain": [
       "RandomForestClassifier()"
      ]
     },
     "execution_count": 287,
     "metadata": {},
     "output_type": "execute_result"
    }
   ],
   "source": [
    "#train classifier\n",
    "RF=RandomForestClassifier()\n",
    "#**GSCV.best_params_\n",
    "RF.fit(X_train,Y_train)"
   ]
  },
  {
   "cell_type": "code",
   "execution_count": 288,
   "metadata": {},
   "outputs": [
    {
     "name": "stdout",
     "output_type": "stream",
     "text": [
      "Accuracy = 0.6165644171779141\n",
      "Matrix [[101  75]\n",
      " [ 50 100]]\n",
      "         NotMemorable   Memorable\n",
      "precision [0.66887417 0.57142857]\n",
      "recall [0.57386364 0.66666667]\n",
      "f-score [0.617737   0.61538462]\n"
     ]
    }
   ],
   "source": [
    "#analysis of outputs\n",
    "acc=RF.score(X_test,Y_test)\n",
    "print('Accuracy =', acc)\n",
    "p=RF.predict(X_test)\n",
    "matrix=confusion_matrix(Y_test,p)\n",
    "print('Matrix',matrix)\n",
    "PRFS=precision_recall_fscore_support(Y_test,p)\n",
    "print('         NotMemorable   Memorable')\n",
    "print('precision',PRFS[0])\n",
    "print('recall',PRFS[1])\n",
    "print('f-score',PRFS[2])"
   ]
  },
  {
   "cell_type": "code",
   "execution_count": 282,
   "metadata": {},
   "outputs": [
    {
     "name": "stdout",
     "output_type": "stream",
     "text": [
      "1s 326\n",
      "0s 326\n"
     ]
    }
   ],
   "source": [
    "#get extra training data et=Extra Training, XE0=XExtra0's YE0=YExtra0's, tPlus=training data plus\n",
    "t=pd.read_csv('training.csv')\n",
    "et=pd.read_csv('additional_training.csv')\n",
    "et0=et.loc[et['prediction']==0]\n",
    "et1=et.loc[et['prediction']==1]\n",
    "et1= et1.iloc[:117,:]\n",
    "tPlus=pd.concat([et0,et1,t])\n",
    "\n",
    "X=tPlus.iloc[:,1:4609]\n",
    "X=X.values\n",
    "Y=tPlus.iloc[:,4609].values\n",
    "X_train,X_test,Y_train,Y_test=train_test_split(X,Y,test_size=0.5,random_state=42)\n",
    "print('1s',sum(Y))\n",
    "print('0s',len(Y)-sum(Y))"
   ]
  },
  {
   "cell_type": "code",
   "execution_count": 283,
   "metadata": {},
   "outputs": [],
   "source": [
    "#preprocess extra data\n",
    "imp=SimpleImputer(missing_values=np.nan,strategy='mean')\n",
    "imp=imp.fit(X_train)\n",
    "X_train=imp.transform(X_train)\n",
    "X_test=imp.transform(X_test)"
   ]
  },
  {
   "cell_type": "code",
   "execution_count": 284,
   "metadata": {},
   "outputs": [
    {
     "name": "stdout",
     "output_type": "stream",
     "text": [
      "{'max_depth': 32, 'n_estimators': 943}\n"
     ]
    }
   ],
   "source": [
    "#get best parameters\n",
    "betaRF=RandomForestClassifier()\n",
    "betaRF.fit(X_train,Y_train)\n",
    "paras={'n_estimators':[943],\n",
    "      'max_depth':[32]}\n",
    "GSCV=GridSearchCV(betaRF,paras)\n",
    "GSCV.fit(X_train,Y_train)\n",
    "print(GSCV.best_params_)"
   ]
  },
  {
   "cell_type": "code",
   "execution_count": 291,
   "metadata": {},
   "outputs": [
    {
     "data": {
      "text/plain": [
       "RandomForestClassifier(max_depth=32, n_estimators=943)"
      ]
     },
     "execution_count": 291,
     "metadata": {},
     "output_type": "execute_result"
    }
   ],
   "source": [
    "RF=RandomForestClassifier(**GSCV.best_params_)\n",
    "RF.fit(X_train,Y_train)"
   ]
  },
  {
   "cell_type": "code",
   "execution_count": 292,
   "metadata": {},
   "outputs": [
    {
     "name": "stdout",
     "output_type": "stream",
     "text": [
      "Accuracy = 0.6625766871165644\n",
      "Matrix [[113  63]\n",
      " [ 47 103]]\n",
      "         NotMemorable   Memorable\n",
      "precision [0.70625    0.62048193]\n",
      "recall [0.64204545 0.68666667]\n",
      "f-score [0.67261905 0.65189873]\n"
     ]
    }
   ],
   "source": [
    "#analysis of outputs\n",
    "acc=RF.score(X_test,Y_test)\n",
    "print('Accuracy =', acc)\n",
    "p=RF.predict(X_test)\n",
    "matrix=confusion_matrix(Y_test,p)\n",
    "print('Matrix',matrix)\n",
    "PRFS=precision_recall_fscore_support(Y_test,p)\n",
    "print('         NotMemorable   Memorable')\n",
    "print('precision',PRFS[0])\n",
    "print('recall',PRFS[1])\n",
    "print('f-score',PRFS[2])"
   ]
  },
  {
   "cell_type": "code",
   "execution_count": 267,
   "metadata": {},
   "outputs": [],
   "source": [
    "#get testing\n",
    "test=pd.read_csv('testing.csv')\n",
    "test=test.values[:,1:]"
   ]
  },
  {
   "cell_type": "code",
   "execution_count": 263,
   "metadata": {},
   "outputs": [],
   "source": [
    "#run testing through classifier\n",
    "predictions=pd.DataFrame({\"Prediction\":RF.predict(test)})\n",
    "predictions.to_csv('RFprediction15.csv')"
   ]
  },
  {
   "cell_type": "code",
   "execution_count": null,
   "metadata": {},
   "outputs": [],
   "source": []
  }
 ],
 "metadata": {
  "kernelspec": {
   "display_name": "Python 3",
   "language": "python",
   "name": "python3"
  },
  "language_info": {
   "codemirror_mode": {
    "name": "ipython",
    "version": 3
   },
   "file_extension": ".py",
   "mimetype": "text/x-python",
   "name": "python",
   "nbconvert_exporter": "python",
   "pygments_lexer": "ipython3",
   "version": "3.7.3"
  }
 },
 "nbformat": 4,
 "nbformat_minor": 4
}
